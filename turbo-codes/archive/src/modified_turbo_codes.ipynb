{
 "cells": [
  {
   "cell_type": "code",
   "execution_count": 8,
   "metadata": {},
   "outputs": [
    {
     "name": "stdout",
     "output_type": "stream",
     "text": [
      "The autoreload extension is already loaded. To reload it, use:\n",
      "  %reload_ext autoreload\n"
     ]
    }
   ],
   "source": [
    "%load_ext autoreload\n",
    "%autoreload 2\n",
    "\n",
    "import modified_convcode as mcc\n",
    "import turbo\n",
    "import modified_turbo as mt\n",
    "from commpy import channelcoding as cc\n",
    "import numpy as np\n",
    "from commpy.utilities import dec2bitarray, bitarray2dec\n",
    "from utils import awgn_corrupt\n",
    "\n",
    "SEED = 0\n",
    "def get_test_rng(seed=SEED):\n",
    "    return np.random.default_rng(seed)"
   ]
  },
  {
   "cell_type": "code",
   "execution_count": 2,
   "metadata": {},
   "outputs": [],
   "source": [
    "block_len = 10\n",
    "\n",
    "test_message_bits = np.array([1, 1, 0, 1, 0, 1, 0, 0, 0, 1])"
   ]
  },
  {
   "cell_type": "code",
   "execution_count": 16,
   "metadata": {},
   "outputs": [
    {
     "name": "stdout",
     "output_type": "stream",
     "text": [
      "trellis1\n",
      "Trellis is code type default and rate 1/2\n",
      "Code has delay 1\n",
      "Output table\n"
     ]
    },
    {
     "data": {
      "text/plain": [
       "array([[2, 1],\n",
       "       [1, 2],\n",
       "       [1, 2],\n",
       "       [2, 1],\n",
       "       [1, 2],\n",
       "       [2, 1],\n",
       "       [2, 1],\n",
       "       [1, 2],\n",
       "       [0, 3],\n",
       "       [3, 0],\n",
       "       [3, 0],\n",
       "       [0, 3],\n",
       "       [3, 0],\n",
       "       [0, 3],\n",
       "       [0, 3],\n",
       "       [3, 0]])"
      ]
     },
     "metadata": {},
     "output_type": "display_data"
    },
    {
     "name": "stdout",
     "output_type": "stream",
     "text": [
      "Next State table\n"
     ]
    },
    {
     "data": {
      "text/plain": [
       "array([[ 0,  8],\n",
       "       [ 0,  8],\n",
       "       [ 1,  9],\n",
       "       [ 1,  9],\n",
       "       [ 2, 10],\n",
       "       [ 2, 10],\n",
       "       [ 3, 11],\n",
       "       [ 3, 11],\n",
       "       [ 4, 12],\n",
       "       [ 4, 12],\n",
       "       [ 5, 13],\n",
       "       [ 5, 13],\n",
       "       [ 6, 14],\n",
       "       [ 6, 14],\n",
       "       [ 7, 15],\n",
       "       [ 7, 15]])"
      ]
     },
     "metadata": {},
     "output_type": "display_data"
    },
    {
     "name": "stdout",
     "output_type": "stream",
     "text": [
      "trellis2\n",
      "Trellis is code type default and rate 1/2\n",
      "Code has delay 1\n",
      "Output table\n"
     ]
    },
    {
     "data": {
      "text/plain": [
       "array([[3, 0],\n",
       "       [1, 2],\n",
       "       [0, 3],\n",
       "       [2, 1],\n",
       "       [0, 3],\n",
       "       [2, 1],\n",
       "       [3, 0],\n",
       "       [1, 2],\n",
       "       [0, 3],\n",
       "       [2, 1],\n",
       "       [3, 0],\n",
       "       [1, 2],\n",
       "       [3, 0],\n",
       "       [1, 2],\n",
       "       [0, 3],\n",
       "       [2, 1]])"
      ]
     },
     "metadata": {},
     "output_type": "display_data"
    },
    {
     "name": "stdout",
     "output_type": "stream",
     "text": [
      "Next State table\n"
     ]
    },
    {
     "data": {
      "text/plain": [
       "array([[ 0,  8],\n",
       "       [ 0,  8],\n",
       "       [ 1,  9],\n",
       "       [ 1,  9],\n",
       "       [ 2, 10],\n",
       "       [ 2, 10],\n",
       "       [ 3, 11],\n",
       "       [ 3, 11],\n",
       "       [ 4, 12],\n",
       "       [ 4, 12],\n",
       "       [ 5, 13],\n",
       "       [ 5, 13],\n",
       "       [ 6, 14],\n",
       "       [ 6, 14],\n",
       "       [ 7, 15],\n",
       "       [ 7, 15]])"
      ]
     },
     "metadata": {},
     "output_type": "display_data"
    }
   ],
   "source": [
    "gen1 = np.array([[1, 1, 1, 1, 1], [1, 0 , 1, 1, 1]])\n",
    "bias1 = np.array([1, 0])\n",
    "gen2 = np.array([[1, 1, 1, 1, 1], [1, 1, 1, 1, 0]])\n",
    "bias2 = np.array([1, 1])\n",
    "\n",
    "trellis1 = mcc.ModifiedTrellis(gen1, bias1, delay=1)\n",
    "trellis2 = mcc.ModifiedTrellis(gen2, bias2, delay=1)\n",
    "interleaver = cc.RandInterlv(block_len, 0)\n",
    "\n",
    "print(\"trellis1\")\n",
    "print(f\"Trellis is code type {trellis1.code_type} and rate {trellis1.k}/{trellis1.n}\")\n",
    "print(f\"Code has delay {trellis1.delay}\")\n",
    "print(\"Output table\")\n",
    "display(trellis1.output_table)\n",
    "print(\"Next State table\")\n",
    "display(trellis1.next_state_table)\n",
    "\n",
    "print(\"trellis2\")\n",
    "print(f\"Trellis is code type {trellis2.code_type} and rate {trellis2.k}/{trellis2.n}\")\n",
    "print(f\"Code has delay {trellis2.delay}\")\n",
    "print(\"Output table\")\n",
    "display(trellis2.output_table)\n",
    "print(\"Next State table\")\n",
    "display(trellis2.next_state_table)"
   ]
  },
  {
   "cell_type": "code",
   "execution_count": 17,
   "metadata": {},
   "outputs": [
    {
     "name": "stdout",
     "output_type": "stream",
     "text": [
      "encoding turbo code\n",
      "[MCC] Modfied msg bits: [1 0 1 0 1 0 0 0 1 0]\n",
      "[MCC] Num inbits 10\n",
      "[MCC] Num outbits 20\n",
      "[MCC] Modfied msg bits: [0 0 1 1 0 0 1 1 1 0]\n",
      "[MCC] Num inbits 10\n",
      "[MCC] Num outbits 20\n",
      "Input stream\n"
     ]
    },
    {
     "data": {
      "text/plain": [
       "array([1, 1, 0, 1, 0, 1, 0, 0, 0, 1])"
      ]
     },
     "metadata": {},
     "output_type": "display_data"
    },
    {
     "name": "stdout",
     "output_type": "stream",
     "text": [
      "My stream 1\n"
     ]
    },
    {
     "data": {
      "text/plain": [
       "array([1, 1, 0, 0, 0, 1, 1, 0, 1, 0])"
      ]
     },
     "metadata": {},
     "output_type": "display_data"
    },
    {
     "name": "stdout",
     "output_type": "stream",
     "text": [
      "Stream 1 is same as message? False\n",
      "Stream 2\n"
     ]
    },
    {
     "data": {
      "text/plain": [
       "array([1, 1, 1, 0, 1, 1, 0, 1, 0, 0])"
      ]
     },
     "metadata": {},
     "output_type": "display_data"
    },
    {
     "name": "stdout",
     "output_type": "stream",
     "text": [
      "Interleaved Stream 3\n"
     ]
    },
    {
     "data": {
      "text/plain": [
       "array([1, 1, 0, 1, 1, 1, 1, 1, 0, 0])"
      ]
     },
     "metadata": {},
     "output_type": "display_data"
    }
   ],
   "source": [
    "[s1, s2, s3] = mt.turbo_encode(test_message_bits, trellis1, trellis2, interleaver)\n",
    "print(\"Input stream\")\n",
    "display(test_message_bits)\n",
    "print(\"My stream 1\")\n",
    "display(s1)\n",
    "print(f\"Stream 1 is same as message? {np.all(test_message_bits == s1)}\")\n",
    "print(\"Stream 2\")\n",
    "display(s2)\n",
    "print(\"Interleaved Stream 3\")\n",
    "display(s3)"
   ]
  },
  {
   "cell_type": "code",
   "execution_count": 18,
   "metadata": {},
   "outputs": [
    {
     "data": {
      "text/plain": [
       "array([ 1.12573022,  0.86789514, -0.35957735, -0.89509988, -1.53566937,\n",
       "        1.36159505,  2.30400005, -0.05291904,  0.29626476, -2.26542147])"
      ]
     },
     "metadata": {},
     "output_type": "display_data"
    },
    {
     "data": {
      "text/plain": [
       "array([ 0.37672554,  1.04132598, -1.32503077, -1.21879166, -0.24591095,\n",
       "        0.26773265, -1.54425898,  0.68369984, -0.58836946,  0.04251337])"
      ]
     },
     "metadata": {},
     "output_type": "display_data"
    },
    {
     "data": {
      "text/plain": [
       "array([ 0.87146534,  2.36646347, -1.66519467,  1.35151007,  1.90347018,\n",
       "        1.0940123 ,  0.25650075,  0.07827462, -1.45772583, -0.77980488])"
      ]
     },
     "metadata": {},
     "output_type": "display_data"
    }
   ],
   "source": [
    "sigma = 1\n",
    "\n",
    "rng = get_test_rng()\n",
    "\n",
    "s1_r = awgn_corrupt(rng, s1, sigma = sigma)\n",
    "s2_r = awgn_corrupt(rng, s2, sigma = sigma)\n",
    "s3_r = awgn_corrupt(rng, s3, sigma = sigma)\n",
    "\n",
    "display(s1_r)\n",
    "display(s2_r)\n",
    "display(s3_r)"
   ]
  },
  {
   "cell_type": "code",
   "execution_count": 19,
   "metadata": {},
   "outputs": [
    {
     "data": {
      "text/plain": [
       "array([0, 0, 0, 1, 1, 0, 0, 1, 0, 1])"
      ]
     },
     "execution_count": 19,
     "metadata": {},
     "output_type": "execute_result"
    }
   ],
   "source": [
    "res = mt.hazzys_turbo_decode(s1_r, s2_r, s3_r, trellis1, trellis2, sigma ** 2, 6, interleaver)\n",
    "res.astype(int)"
   ]
  },
  {
   "cell_type": "code",
   "execution_count": null,
   "metadata": {},
   "outputs": [],
   "source": []
  }
 ],
 "metadata": {
  "interpreter": {
   "hash": "4a90e52e46aab268b5a60d5d4a973112b884470e0dd1e30ef308d0891c9e7699"
  },
  "kernelspec": {
   "display_name": "Python 3.10.0 64-bit ('turbo': conda)",
   "name": "python3"
  },
  "language_info": {
   "codemirror_mode": {
    "name": "ipython",
    "version": 3
   },
   "file_extension": ".py",
   "mimetype": "text/x-python",
   "name": "python",
   "nbconvert_exporter": "python",
   "pygments_lexer": "ipython3",
   "version": "3.10.0"
  },
  "orig_nbformat": 4
 },
 "nbformat": 4,
 "nbformat_minor": 2
}
