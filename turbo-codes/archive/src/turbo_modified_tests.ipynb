{
 "cells": [
  {
   "cell_type": "code",
   "execution_count": 47,
   "metadata": {},
   "outputs": [
    {
     "name": "stdout",
     "output_type": "stream",
     "text": [
      "The autoreload extension is already loaded. To reload it, use:\n",
      "  %reload_ext autoreload\n"
     ]
    }
   ],
   "source": [
    "%load_ext autoreload\n",
    "%autoreload 2\n",
    "\n",
    "import modified_convcode as mcc\n",
    "import turbo\n",
    "import modified_turbo as mt\n",
    "from commpy import channelcoding as cc\n",
    "import numpy as np\n",
    "from commpy.utilities import dec2bitarray, bitarray2dec\n",
    "\n",
    "SEED = 0\n",
    "def get_test_rng(seed=SEED):\n",
    "    return np.random.default_rng(seed)"
   ]
  },
  {
   "cell_type": "code",
   "execution_count": 7,
   "metadata": {},
   "outputs": [],
   "source": [
    "block_len = 5\n",
    "\n",
    "test_message_bits = np.array([1, 1, 0, 1, 0])\n"
   ]
  },
  {
   "cell_type": "code",
   "execution_count": 8,
   "metadata": {},
   "outputs": [
    {
     "name": "stdout",
     "output_type": "stream",
     "text": [
      "cc_trellis\n",
      "Trellis is code type default and rate 1/2\n",
      "Output table\n"
     ]
    },
    {
     "data": {
      "text/plain": [
       "array([[0, 3],\n",
       "       [3, 0],\n",
       "       [2, 1],\n",
       "       [1, 2]])"
      ]
     },
     "metadata": {},
     "output_type": "display_data"
    },
    {
     "name": "stdout",
     "output_type": "stream",
     "text": [
      "Next State table\n"
     ]
    },
    {
     "data": {
      "text/plain": [
       "array([[0, 2],\n",
       "       [0, 2],\n",
       "       [1, 3],\n",
       "       [1, 3]])"
      ]
     },
     "metadata": {},
     "output_type": "display_data"
    }
   ],
   "source": [
    "cc_gen = np.array([[7, 5]])\n",
    "cc_M = np.array([2])\n",
    "cc_trellis = cc.Trellis(cc_M, cc_gen, feedback=0)\n",
    "cc_interleaver = cc.RandInterlv(block_len, 0)\n",
    "\n",
    "print(\"cc_trellis\")\n",
    "print(f\"Trellis is code type {cc_trellis.code_type} and rate {cc_trellis.k}/{cc_trellis.n}\")\n",
    "print(\"Output table\")\n",
    "display(cc_trellis.output_table)\n",
    "print(\"Next State table\")\n",
    "display(cc_trellis.next_state_table)"
   ]
  },
  {
   "cell_type": "code",
   "execution_count": 9,
   "metadata": {},
   "outputs": [
    {
     "name": "stdout",
     "output_type": "stream",
     "text": [
      "mcc_trellis\n",
      "Trellis is code type default and rate 1/2\n",
      "Output table\n"
     ]
    },
    {
     "data": {
      "text/plain": [
       "array([[0, 3],\n",
       "       [3, 0],\n",
       "       [2, 1],\n",
       "       [1, 2]])"
      ]
     },
     "metadata": {},
     "output_type": "display_data"
    },
    {
     "name": "stdout",
     "output_type": "stream",
     "text": [
      "Next State table\n"
     ]
    },
    {
     "data": {
      "text/plain": [
       "array([[0, 2],\n",
       "       [0, 2],\n",
       "       [1, 3],\n",
       "       [1, 3]])"
      ]
     },
     "metadata": {},
     "output_type": "display_data"
    }
   ],
   "source": [
    "mcc_gen = np.array([[1, 1, 1], [1, 0 , 1]])\n",
    "mcc_bias = np.array([0, 0])\n",
    "mcc_trellis = mcc.ModifiedTrellis(mcc_gen,mcc_bias)\n",
    "mcc_interleaver = cc.RandInterlv(block_len, 0)\n",
    "\n",
    "print(\"mcc_trellis\")\n",
    "print(f\"Trellis is code type {mcc_trellis.code_type} and rate {mcc_trellis.k}/{mcc_trellis.n}\")\n",
    "print(\"Output table\")\n",
    "display(mcc_trellis.output_table)\n",
    "print(\"Next State table\")\n",
    "display(mcc_trellis.next_state_table)"
   ]
  },
  {
   "cell_type": "code",
   "execution_count": 10,
   "metadata": {},
   "outputs": [
    {
     "name": "stdout",
     "output_type": "stream",
     "text": [
      "encoding turbo code\n",
      "Enterted conv encode with k=1; n=2; total_memory=2; rate=0.5; code_type=default\n",
      "Using termination rsc\n",
      "Running term termination\n",
      "Running default code type\n",
      "number_inbit=7; inbits=[1 1 0 1 0 0 0]; number_outbits=14\n",
      "Do I ever reach this code????\n",
      "Enterted conv encode with k=1; n=2; total_memory=2; rate=0.5; code_type=default\n",
      "Using termination rsc\n",
      "Running term termination\n",
      "Running default code type\n",
      "number_inbit=7; inbits=[0 1 1 1 0 0 0]; number_outbits=14\n",
      "Do I ever reach this code????\n",
      "stream 1\n"
     ]
    },
    {
     "data": {
      "text/plain": [
       "array([1, 0, 0, 0, 1])"
      ]
     },
     "metadata": {},
     "output_type": "display_data"
    },
    {
     "name": "stdout",
     "output_type": "stream",
     "text": [
      "Stream 1 is same as message (systematuic? False\n"
     ]
    },
    {
     "data": {
      "text/plain": [
       "array([1, 1, 1, 0, 0])"
      ]
     },
     "metadata": {},
     "output_type": "display_data"
    },
    {
     "data": {
      "text/plain": [
       "array([0, 1, 1, 0, 1])"
      ]
     },
     "metadata": {},
     "output_type": "display_data"
    }
   ],
   "source": [
    "[cc_s1, cc_s2, cc_s3] = cc.turbo_encode(test_message_bits, cc_trellis, cc_trellis, cc.RandInterlv(block_len, 0))\n",
    "print(\"stream 1\")\n",
    "display(cc_s1)\n",
    "print(f\"Stream 1 is same as message (systematuic? {np.all(test_message_bits == cc_s1)}\")\n",
    "display(cc_s2)\n",
    "display(cc_s3)"
   ]
  },
  {
   "cell_type": "code",
   "execution_count": 11,
   "metadata": {},
   "outputs": [
    {
     "name": "stdout",
     "output_type": "stream",
     "text": [
      "encoding turbo code\n",
      "[MCC] Modfied msg bits: [1 1 0 1 0]\n",
      "[MCC] Num inbits 5\n",
      "[MCC] Num outbits 10\n",
      "[MCC] Modfied msg bits: [0 1 1 1 0]\n",
      "[MCC] Num inbits 5\n",
      "[MCC] Num outbits 10\n",
      "My stream 1\n"
     ]
    },
    {
     "data": {
      "text/plain": [
       "array([1, 0, 0, 0, 1])"
      ]
     },
     "metadata": {},
     "output_type": "display_data"
    },
    {
     "name": "stdout",
     "output_type": "stream",
     "text": [
      "Stream 1 is same as message? False\n"
     ]
    },
    {
     "data": {
      "text/plain": [
       "array([1, 1, 1, 0, 0])"
      ]
     },
     "metadata": {},
     "output_type": "display_data"
    },
    {
     "data": {
      "text/plain": [
       "array([0, 1, 1, 0, 1])"
      ]
     },
     "metadata": {},
     "output_type": "display_data"
    }
   ],
   "source": [
    "[mcc_s1, mcc_s2, mcc_s3] = mt.turbo_encode(test_message_bits, mcc_trellis, mcc_trellis, cc.RandInterlv(block_len, 0))\n",
    "print(\"My stream 1\")\n",
    "display(mcc_s1)\n",
    "print(f\"Stream 1 is same as message? {np.all(test_message_bits == mcc_s1)}\")\n",
    "display(mcc_s2)\n",
    "display(mcc_s3)"
   ]
  },
  {
   "cell_type": "code",
   "execution_count": 15,
   "metadata": {},
   "outputs": [
    {
     "name": "stdout",
     "output_type": "stream",
     "text": [
      "[testing] SNR range in dB  [-1.5 -1.  -0.5  0.   0.5  1.   1.5  2. ]\n",
      "[testing] Test sigmas are [1.18850223 1.12201845 1.05925373 1.         0.94406088 0.89125094\n",
      " 0.84139514 0.79432823]\n",
      "[sanity check]: SNRs for sigmas are [-1.5000000000000002, -1.0000000000000009, -0.49999999999999956, -0.0, 0.49999999999999983, 0.9999999999999993, 1.4999999999999991, 1.9999999999999998]\n"
     ]
    }
   ],
   "source": [
    "from utils import get_test_sigmas\n",
    "\n",
    "test_sigmas = get_test_sigmas(-1.5, 2.0, 8)\n",
    "sigma = 1"
   ]
  },
  {
   "cell_type": "code",
   "execution_count": 16,
   "metadata": {},
   "outputs": [
    {
     "data": {
      "text/plain": [
       "array([ 1.12573022, -1.13210486, -0.35957735, -0.89509988,  0.46433063])"
      ]
     },
     "metadata": {},
     "output_type": "display_data"
    },
    {
     "data": {
      "text/plain": [
       "array([ 1.36159505,  2.30400005,  1.94708096, -1.70373524, -2.26542147])"
      ]
     },
     "metadata": {},
     "output_type": "display_data"
    },
    {
     "data": {
      "text/plain": [
       "array([-1.62327446,  1.04132598, -1.32503077, -1.21879166, -0.24591095])"
      ]
     },
     "metadata": {},
     "output_type": "display_data"
    }
   ],
   "source": [
    "from utils import awgn_corrupt\n",
    "\n",
    "cc_rng = get_test_rng()\n",
    "\n",
    "cc_s1_r = awgn_corrupt(cc_rng, cc_s1, sigma = sigma)\n",
    "cc_s2_r = awgn_corrupt(cc_rng, cc_s2, sigma = sigma)\n",
    "cc_s3_r = awgn_corrupt(cc_rng, cc_s3, sigma = sigma)\n",
    "\n",
    "display(cc_s1_r)\n",
    "display(cc_s2_r)\n",
    "display(cc_s3_r)"
   ]
  },
  {
   "cell_type": "code",
   "execution_count": 17,
   "metadata": {},
   "outputs": [
    {
     "data": {
      "text/plain": [
       "array([ 1.12573022, -1.13210486, -0.35957735, -0.89509988,  0.46433063])"
      ]
     },
     "metadata": {},
     "output_type": "display_data"
    },
    {
     "data": {
      "text/plain": [
       "array([ 1.36159505,  2.30400005,  1.94708096, -1.70373524, -2.26542147])"
      ]
     },
     "metadata": {},
     "output_type": "display_data"
    },
    {
     "data": {
      "text/plain": [
       "array([-1.62327446,  1.04132598, -1.32503077, -1.21879166, -0.24591095])"
      ]
     },
     "metadata": {},
     "output_type": "display_data"
    }
   ],
   "source": [
    "mcc_rng = get_test_rng()\n",
    "\n",
    "mcc_s1_r = awgn_corrupt(mcc_rng, mcc_s1, sigma = sigma)\n",
    "mcc_s2_r = awgn_corrupt(mcc_rng, mcc_s2, sigma = sigma)\n",
    "mcc_s3_r = awgn_corrupt(mcc_rng, mcc_s3, sigma = sigma)\n",
    "\n",
    "display(mcc_s1_r)\n",
    "display(mcc_s2_r)\n",
    "display(mcc_s3_r)"
   ]
  },
  {
   "cell_type": "code",
   "execution_count": 24,
   "metadata": {},
   "outputs": [
    {
     "data": {
      "text/plain": [
       "array([1, 1, 0, 1, 0])"
      ]
     },
     "execution_count": 24,
     "metadata": {},
     "output_type": "execute_result"
    }
   ],
   "source": [
    "cc_res = turbo.hazzys_turbo_decode(cc_s1_r, cc_s2_r, cc_s3_r, cc_trellis, sigma ** 2, 6, cc_interleaver)\n",
    "cc_res.astype(int)"
   ]
  },
  {
   "cell_type": "code",
   "execution_count": 25,
   "metadata": {},
   "outputs": [
    {
     "data": {
      "text/plain": [
       "array([1, 1, 0, 1, 0])"
      ]
     },
     "execution_count": 25,
     "metadata": {},
     "output_type": "execute_result"
    }
   ],
   "source": [
    "mcc_res = turbo.hazzys_turbo_decode(mcc_s1_r, mcc_s2_r, mcc_s3_r, mcc_trellis, sigma ** 2, 6, mcc_interleaver)\n",
    "mcc_res.astype(int)"
   ]
  },
  {
   "cell_type": "code",
   "execution_count": 43,
   "metadata": {},
   "outputs": [
    {
     "name": "stdout",
     "output_type": "stream",
     "text": [
      "cc_trellis1\n",
      "Trellis is code type default and rate 1/2\n",
      "Output table\n"
     ]
    },
    {
     "data": {
      "text/plain": [
       "array([[0, 3],\n",
       "       [1, 2],\n",
       "       [1, 2],\n",
       "       [0, 3]])"
      ]
     },
     "metadata": {},
     "output_type": "display_data"
    },
    {
     "name": "stdout",
     "output_type": "stream",
     "text": [
      "Next State table\n"
     ]
    },
    {
     "data": {
      "text/plain": [
       "array([[0, 2],\n",
       "       [0, 2],\n",
       "       [1, 3],\n",
       "       [1, 3]])"
      ]
     },
     "metadata": {},
     "output_type": "display_data"
    },
    {
     "name": "stdout",
     "output_type": "stream",
     "text": [
      "cc_trellis2\n",
      "Trellis is code type default and rate 1/2\n",
      "Output table\n"
     ]
    },
    {
     "data": {
      "text/plain": [
       "array([[0, 3],\n",
       "       [1, 2],\n",
       "       [0, 3],\n",
       "       [1, 2]])"
      ]
     },
     "metadata": {},
     "output_type": "display_data"
    },
    {
     "name": "stdout",
     "output_type": "stream",
     "text": [
      "Next State table\n"
     ]
    },
    {
     "data": {
      "text/plain": [
       "array([[0, 2],\n",
       "       [0, 2],\n",
       "       [1, 3],\n",
       "       [1, 3]])"
      ]
     },
     "metadata": {},
     "output_type": "display_data"
    }
   ],
   "source": [
    "# Now try turbo code with different trellises\n",
    "cc_gen1 = np.array([[4, 7]])\n",
    "cc_gen2 = np.array([[4, 5]])\n",
    "cc_M = np.array([2])\n",
    "cc_trellis1 = cc.Trellis(cc_M, cc_gen1, feedback=0)\n",
    "cc_trellis2 = cc.Trellis(cc_M, cc_gen2, feedback=0)\n",
    "cc_test2_interleaver = cc.RandInterlv(block_len, 0)\n",
    "\n",
    "print(\"cc_trellis1\")\n",
    "print(f\"Trellis is code type {cc_trellis1.code_type} and rate {cc_trellis1.k}/{cc_trellis1.n}\")\n",
    "print(\"Output table\")\n",
    "display(cc_trellis1.output_table)\n",
    "print(\"Next State table\")\n",
    "display(cc_trellis1.next_state_table)\n",
    "\n",
    "print(\"cc_trellis2\")\n",
    "print(f\"Trellis is code type {cc_trellis2.code_type} and rate {cc_trellis2.k}/{cc_trellis2.n}\")\n",
    "print(\"Output table\")\n",
    "display(cc_trellis2.output_table)\n",
    "print(\"Next State table\")\n",
    "display(cc_trellis2.next_state_table)"
   ]
  },
  {
   "cell_type": "code",
   "execution_count": 42,
   "metadata": {},
   "outputs": [
    {
     "name": "stdout",
     "output_type": "stream",
     "text": [
      "mcc_trellis1\n",
      "Trellis is code type default and rate 1/2\n",
      "Output table\n"
     ]
    },
    {
     "data": {
      "text/plain": [
       "array([[0, 3],\n",
       "       [1, 2],\n",
       "       [1, 2],\n",
       "       [0, 3]])"
      ]
     },
     "metadata": {},
     "output_type": "display_data"
    },
    {
     "name": "stdout",
     "output_type": "stream",
     "text": [
      "Next State table\n"
     ]
    },
    {
     "data": {
      "text/plain": [
       "array([[0, 2],\n",
       "       [0, 2],\n",
       "       [1, 3],\n",
       "       [1, 3]])"
      ]
     },
     "metadata": {},
     "output_type": "display_data"
    },
    {
     "name": "stdout",
     "output_type": "stream",
     "text": [
      "mcc_trellis2\n",
      "Trellis is code type default and rate 1/2\n",
      "Output table\n"
     ]
    },
    {
     "data": {
      "text/plain": [
       "array([[0, 3],\n",
       "       [1, 2],\n",
       "       [0, 3],\n",
       "       [1, 2]])"
      ]
     },
     "metadata": {},
     "output_type": "display_data"
    },
    {
     "name": "stdout",
     "output_type": "stream",
     "text": [
      "Next State table\n"
     ]
    },
    {
     "data": {
      "text/plain": [
       "array([[0, 2],\n",
       "       [0, 2],\n",
       "       [1, 3],\n",
       "       [1, 3]])"
      ]
     },
     "metadata": {},
     "output_type": "display_data"
    }
   ],
   "source": [
    "mcc_gen1 = np.array([[1, 0, 0], [1, 1, 1]])\n",
    "mcc_gen2 = np.array([[1, 0, 0], [1, 0 , 1]])\n",
    "mcc_bias = np.array([0, 0])\n",
    "mcc_trellis1 = mcc.ModifiedTrellis(mcc_gen1,mcc_bias)\n",
    "mcc_trellis2 = mcc.ModifiedTrellis(mcc_gen2,mcc_bias)\n",
    "mcc_test2_interleaver = cc.RandInterlv(block_len, 0)\n",
    "\n",
    "print(\"mcc_trellis1\")\n",
    "print(f\"Trellis is code type {mcc_trellis1.code_type} and rate {mcc_trellis1.k}/{mcc_trellis1.n}\")\n",
    "print(\"Output table\")\n",
    "display(mcc_trellis1.output_table)\n",
    "print(\"Next State table\")\n",
    "display(mcc_trellis1.next_state_table)\n",
    "\n",
    "print(\"mcc_trellis2\")\n",
    "print(f\"Trellis is code type {mcc_trellis2.code_type} and rate {mcc_trellis2.k}/{mcc_trellis2.n}\")\n",
    "print(\"Output table\")\n",
    "display(mcc_trellis2.output_table)\n",
    "print(\"Next State table\")\n",
    "display(mcc_trellis2.next_state_table)"
   ]
  },
  {
   "cell_type": "code",
   "execution_count": 52,
   "metadata": {},
   "outputs": [
    {
     "name": "stdout",
     "output_type": "stream",
     "text": [
      "encoding turbo code\n",
      "Enterted conv encode with k=1; n=2; total_memory=2; rate=0.5; code_type=default\n",
      "Using termination rsc\n",
      "Running term termination\n",
      "Running default code type\n",
      "number_inbit=7; inbits=[1 1 0 1 0 0 0]; number_outbits=14\n",
      "Do I ever reach this code????\n",
      "Enterted conv encode with k=1; n=2; total_memory=2; rate=0.5; code_type=default\n",
      "Using termination rsc\n",
      "Running term termination\n",
      "Running default code type\n",
      "number_inbit=7; inbits=[0 1 1 1 0 0 0]; number_outbits=14\n",
      "Do I ever reach this code????\n",
      "stream 1\n"
     ]
    },
    {
     "data": {
      "text/plain": [
       "array([1, 1, 0, 1, 0])"
      ]
     },
     "metadata": {},
     "output_type": "display_data"
    },
    {
     "name": "stdout",
     "output_type": "stream",
     "text": [
      "Stream 1 is same as message (systematuic? True\n"
     ]
    },
    {
     "data": {
      "text/plain": [
       "array([1, 0, 0, 0, 1])"
      ]
     },
     "metadata": {},
     "output_type": "display_data"
    },
    {
     "data": {
      "text/plain": [
       "array([0, 1, 1, 0, 1])"
      ]
     },
     "metadata": {},
     "output_type": "display_data"
    }
   ],
   "source": [
    "[cc_test2_s1, cc_test2_s2, cc_test2_s3] = cc.turbo_encode(test_message_bits, cc_trellis1, cc_trellis2, cc_test2_interleaver)\n",
    "print(\"stream 1\")\n",
    "display(cc_test2_s1)\n",
    "print(f\"Stream 1 is same as message (systematuic? {np.all(test_message_bits == cc_test2_s1)}\")\n",
    "display(cc_test2_s2)\n",
    "display(cc_test2_s3)"
   ]
  },
  {
   "cell_type": "code",
   "execution_count": 53,
   "metadata": {},
   "outputs": [
    {
     "name": "stdout",
     "output_type": "stream",
     "text": [
      "encoding turbo code\n",
      "[MCC] Modfied msg bits: [1 1 0 1 0]\n",
      "[MCC] Num inbits 5\n",
      "[MCC] Num outbits 10\n",
      "[MCC] Modfied msg bits: [0 1 1 1 0]\n",
      "[MCC] Num inbits 5\n",
      "[MCC] Num outbits 10\n",
      "My stream 1\n"
     ]
    },
    {
     "data": {
      "text/plain": [
       "array([1, 1, 0, 1, 0])"
      ]
     },
     "metadata": {},
     "output_type": "display_data"
    },
    {
     "name": "stdout",
     "output_type": "stream",
     "text": [
      "Stream 1 is same as message? True\n"
     ]
    },
    {
     "data": {
      "text/plain": [
       "array([1, 0, 0, 0, 1])"
      ]
     },
     "metadata": {},
     "output_type": "display_data"
    },
    {
     "data": {
      "text/plain": [
       "array([0, 1, 1, 0, 1])"
      ]
     },
     "metadata": {},
     "output_type": "display_data"
    }
   ],
   "source": [
    "[mcc_test2_s1, mcc_test2_s2, mcc_test2_s3] = mt.turbo_encode(test_message_bits, mcc_trellis1, mcc_trellis2, mcc_test2_interleaver)\n",
    "print(\"My stream 1\")\n",
    "display(mcc_test2_s1)\n",
    "print(f\"Stream 1 is same as message? {np.all(test_message_bits == mcc_test2_s1)}\")\n",
    "display(mcc_test2_s2)\n",
    "display(mcc_test2_s3)"
   ]
  },
  {
   "cell_type": "code",
   "execution_count": 39,
   "metadata": {},
   "outputs": [
    {
     "data": {
      "text/plain": [
       "array([ 1.12573022,  0.86789514, -0.35957735,  1.10490012, -1.53566937])"
      ]
     },
     "metadata": {},
     "output_type": "display_data"
    },
    {
     "data": {
      "text/plain": [
       "array([ 1.36159505,  0.30400005, -0.05291904, -1.70373524, -0.26542147])"
      ]
     },
     "metadata": {},
     "output_type": "display_data"
    },
    {
     "data": {
      "text/plain": [
       "array([-1.62327446,  1.04132598, -1.32503077, -1.21879166, -0.24591095])"
      ]
     },
     "metadata": {},
     "output_type": "display_data"
    }
   ],
   "source": [
    "cc_test2_rng = get_test_rng()\n",
    "\n",
    "cc_test2_s1_r = awgn_corrupt(cc_test2_rng, cc_test2_s1, sigma = sigma)\n",
    "cc_test2_s2_r = awgn_corrupt(cc_test2_rng, cc_test2_s2, sigma = sigma)\n",
    "cc_test2_s3_r = awgn_corrupt(cc_test2_rng, cc_test2_s3, sigma = sigma)\n",
    "\n",
    "display(cc_test2_s1_r)\n",
    "display(cc_test2_s2_r)\n",
    "display(cc_test2_s3_r)"
   ]
  },
  {
   "cell_type": "code",
   "execution_count": 41,
   "metadata": {},
   "outputs": [
    {
     "data": {
      "text/plain": [
       "array([ 1.12573022,  0.86789514, -0.35957735,  1.10490012, -1.53566937])"
      ]
     },
     "metadata": {},
     "output_type": "display_data"
    },
    {
     "data": {
      "text/plain": [
       "array([ 1.36159505,  0.30400005, -0.05291904, -1.70373524, -0.26542147])"
      ]
     },
     "metadata": {},
     "output_type": "display_data"
    },
    {
     "data": {
      "text/plain": [
       "array([-1.62327446,  1.04132598, -1.32503077, -1.21879166, -0.24591095])"
      ]
     },
     "metadata": {},
     "output_type": "display_data"
    }
   ],
   "source": [
    "mcc_test2_rng = get_test_rng()\n",
    "\n",
    "mcc_test2_s1_r = awgn_corrupt(mcc_test2_rng, mcc_test2_s1, sigma = sigma)\n",
    "mcc_test2_s2_r = awgn_corrupt(mcc_test2_rng, mcc_test2_s2, sigma = sigma)\n",
    "mcc_test2_s3_r = awgn_corrupt(mcc_test2_rng, mcc_test2_s3, sigma = sigma)\n",
    "\n",
    "display(mcc_test2_s1_r)\n",
    "display(mcc_test2_s2_r)\n",
    "display(mcc_test2_s3_r)"
   ]
  },
  {
   "cell_type": "code",
   "execution_count": 50,
   "metadata": {},
   "outputs": [
    {
     "data": {
      "text/plain": [
       "array([1, 1, 0, 1, 0])"
      ]
     },
     "execution_count": 50,
     "metadata": {},
     "output_type": "execute_result"
    }
   ],
   "source": [
    "cc_test2_res = mt.hazzys_turbo_decode(cc_test2_s1_r, cc_test2_s2_r, cc_test2_s3_r, cc_trellis1, cc_trellis2, sigma ** 2, 6, cc_test2_interleaver)\n",
    "cc_test2_res.astype(int)"
   ]
  },
  {
   "cell_type": "code",
   "execution_count": 51,
   "metadata": {},
   "outputs": [
    {
     "data": {
      "text/plain": [
       "array([1, 1, 0, 1, 0])"
      ]
     },
     "execution_count": 51,
     "metadata": {},
     "output_type": "execute_result"
    }
   ],
   "source": [
    "mcc_test2_res = mt.hazzys_turbo_decode(mcc_test2_s1_r, mcc_test2_s2_r, mcc_test2_s3_r, mcc_trellis1, mcc_trellis2, sigma ** 2, 6, mcc_test2_interleaver)\n",
    "mcc_test2_res.astype(int)"
   ]
  }
 ],
 "metadata": {
  "interpreter": {
   "hash": "4a90e52e46aab268b5a60d5d4a973112b884470e0dd1e30ef308d0891c9e7699"
  },
  "kernelspec": {
   "display_name": "Python 3.10.0 64-bit ('turbo': conda)",
   "name": "python3"
  },
  "language_info": {
   "codemirror_mode": {
    "name": "ipython",
    "version": 3
   },
   "file_extension": ".py",
   "mimetype": "text/x-python",
   "name": "python",
   "nbconvert_exporter": "python",
   "pygments_lexer": "ipython3",
   "version": "3.10.0"
  },
  "orig_nbformat": 4
 },
 "nbformat": 4,
 "nbformat_minor": 2
}
