{
 "cells": [
  {
   "cell_type": "code",
   "execution_count": 1,
   "id": "a1ae245e-2c66-44f2-adba-1ce63703e41a",
   "metadata": {},
   "outputs": [],
   "source": [
    "import sys\n",
    "sys.path.insert(0,'..')\n"
   ]
  },
  {
   "cell_type": "code",
   "execution_count": 2,
   "id": "45d6e1e6-c962-479e-a494-c639cf4c94bb",
   "metadata": {},
   "outputs": [
    {
     "name": "stderr",
     "output_type": "stream",
     "text": [
      "2021-12-31 10:26:33.694860: W tensorflow/stream_executor/platform/default/dso_loader.cc:64] Could not load dynamic library 'libcudart.so.11.0'; dlerror: libcudart.so.11.0: cannot open shared object file: No such file or directory\n",
      "2021-12-31 10:26:33.694877: I tensorflow/stream_executor/cuda/cudart_stub.cc:29] Ignore above cudart dlerror if you do not have a GPU set up on your machine.\n"
     ]
    }
   ],
   "source": [
    "import tensorflow as tf\n",
    "import os\n",
    "from src.utils import safe_open_dir"
   ]
  },
  {
   "cell_type": "code",
   "execution_count": 3,
   "id": "92ffa128-bffe-4926-9dc2-cabe1f7d4f2e",
   "metadata": {},
   "outputs": [
    {
     "name": "stdout",
     "output_type": "stream",
     "text": [
      "Directory ../tmp/ does not exist, creating it\n"
     ]
    },
    {
     "name": "stderr",
     "output_type": "stream",
     "text": [
      "2021-12-31 10:26:34.736920: I tensorflow/stream_executor/cuda/cuda_gpu_executor.cc:939] successful NUMA node read from SysFS had negative value (-1), but there must be at least one NUMA node, so returning NUMA node zero\n",
      "2021-12-31 10:26:34.737462: W tensorflow/stream_executor/platform/default/dso_loader.cc:64] Could not load dynamic library 'libcudart.so.11.0'; dlerror: libcudart.so.11.0: cannot open shared object file: No such file or directory\n",
      "2021-12-31 10:26:34.737531: W tensorflow/stream_executor/platform/default/dso_loader.cc:64] Could not load dynamic library 'libcublas.so.11'; dlerror: libcublas.so.11: cannot open shared object file: No such file or directory\n",
      "2021-12-31 10:26:34.737593: W tensorflow/stream_executor/platform/default/dso_loader.cc:64] Could not load dynamic library 'libcublasLt.so.11'; dlerror: libcublasLt.so.11: cannot open shared object file: No such file or directory\n",
      "2021-12-31 10:26:34.737655: W tensorflow/stream_executor/platform/default/dso_loader.cc:64] Could not load dynamic library 'libcufft.so.10'; dlerror: libcufft.so.10: cannot open shared object file: No such file or directory\n",
      "2021-12-31 10:26:34.737717: W tensorflow/stream_executor/platform/default/dso_loader.cc:64] Could not load dynamic library 'libcurand.so.10'; dlerror: libcurand.so.10: cannot open shared object file: No such file or directory\n",
      "2021-12-31 10:26:34.737777: W tensorflow/stream_executor/platform/default/dso_loader.cc:64] Could not load dynamic library 'libcusolver.so.11'; dlerror: libcusolver.so.11: cannot open shared object file: No such file or directory\n",
      "2021-12-31 10:26:34.737836: W tensorflow/stream_executor/platform/default/dso_loader.cc:64] Could not load dynamic library 'libcusparse.so.11'; dlerror: libcusparse.so.11: cannot open shared object file: No such file or directory\n",
      "2021-12-31 10:26:34.737897: W tensorflow/stream_executor/platform/default/dso_loader.cc:64] Could not load dynamic library 'libcudnn.so.8'; dlerror: libcudnn.so.8: cannot open shared object file: No such file or directory\n",
      "2021-12-31 10:26:34.737910: W tensorflow/core/common_runtime/gpu/gpu_device.cc:1850] Cannot dlopen some GPU libraries. Please make sure the missing libraries mentioned above are installed properly if you would like to use GPU. Follow the guide at https://www.tensorflow.org/install/gpu for how to download and setup the required libraries for your platform.\n",
      "Skipping registering GPU devices...\n",
      "2021-12-31 10:26:34.738257: I tensorflow/core/platform/cpu_feature_guard.cc:151] This TensorFlow binary is optimized with oneAPI Deep Neural Network Library (oneDNN) to use the following CPU instructions in performance-critical operations:  AVX2 FMA\n",
      "To enable them in other operations, rebuild TensorFlow with the appropriate compiler flags.\n"
     ]
    }
   ],
   "source": [
    "tensorboard_logdir = safe_open_dir('../tmp/')\n",
    "summary_writer = tf.summary.create_file_writer(os.path.join(tensorboard_logdir, 'test_tb'))"
   ]
  },
  {
   "cell_type": "code",
   "execution_count": 10,
   "id": "83a5e410-c186-4aad-b5f7-bb0c79d04c50",
   "metadata": {},
   "outputs": [],
   "source": [
    "a = tf.constant(1.)\n",
    "with summary_writer.as_default():\n",
    "    tf.summary.scalar('test_repeat_scalar', a, step=0)\n",
    "    tf.summary.scalar('test_repeat_scalar', a+1, step=0)"
   ]
  },
  {
   "cell_type": "code",
   "execution_count": 13,
   "id": "c37ae71f-5371-4871-804a-24bdad1cadc6",
   "metadata": {},
   "outputs": [],
   "source": [
    "b = tf.random.normal((100,))\n",
    "with summary_writer.as_default():\n",
    "    tf.summary.histogram('test_repeat_histogram', b, step=0)\n",
    "    tf.summary.histogram('test_repeat_histogram', b+100, step=0)"
   ]
  },
  {
   "cell_type": "code",
   "execution_count": 16,
   "id": "eb1406da-4665-426b-94af-ecc6431ff1e6",
   "metadata": {},
   "outputs": [],
   "source": [
    "with summary_writer.as_default():\n",
    "    for i in range(10):\n",
    "        b = tf.random.normal((100,)) + i\n",
    "        tf.summary.histogram('test_multi_step_histogram', b, step=i)"
   ]
  },
  {
   "cell_type": "code",
   "execution_count": null,
   "id": "ae8045d5-89ef-422d-aac3-d96e4e910367",
   "metadata": {},
   "outputs": [],
   "source": []
  }
 ],
 "metadata": {
  "kernelspec": {
   "display_name": "Python [conda env:turbo]",
   "language": "python",
   "name": "conda-env-turbo-py"
  },
  "language_info": {
   "codemirror_mode": {
    "name": "ipython",
    "version": 3
   },
   "file_extension": ".py",
   "mimetype": "text/x-python",
   "name": "python",
   "nbconvert_exporter": "python",
   "pygments_lexer": "ipython3",
   "version": "3.9.7"
  }
 },
 "nbformat": 4,
 "nbformat_minor": 5
}
