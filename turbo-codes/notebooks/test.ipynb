{
 "cells": [
  {
   "cell_type": "code",
   "execution_count": 1,
   "id": "093e8e81-8f01-4fa7-8e85-2ea8352a6e14",
   "metadata": {},
   "outputs": [
    {
     "name": "stderr",
     "output_type": "stream",
     "text": [
      "2021-12-31 11:19:39.431472: W tensorflow/stream_executor/platform/default/dso_loader.cc:64] Could not load dynamic library 'libcudart.so.11.0'; dlerror: libcudart.so.11.0: cannot open shared object file: No such file or directory\n",
      "2021-12-31 11:19:39.431491: I tensorflow/stream_executor/cuda/cudart_stub.cc:29] Ignore above cudart dlerror if you do not have a GPU set up on your machine.\n"
     ]
    }
   ],
   "source": [
    "import tensorflow as tf"
   ]
  },
  {
   "cell_type": "code",
   "execution_count": 7,
   "id": "90d876a7-2f19-48b8-8a07-a662f84edab3",
   "metadata": {},
   "outputs": [],
   "source": [
    "class Test:\n",
    "    \n",
    "    def __init__(self):\n",
    "        self.permutation = None\n",
    "    \n",
    "    def reset(self):\n",
    "        print(\"resetting\")\n",
    "        self.permutation = None\n",
    "    \n",
    "    def __call__(self, msg):\n",
    "        if self.permutation is None:\n",
    "            print(\"permutation is not set\")\n",
    "            self.permutation = tf.random.shuffle(tf.range(100))\n",
    "        return tf.gather(msg, self.permutation)"
   ]
  },
  {
   "cell_type": "code",
   "execution_count": 14,
   "id": "371d6940-9679-42ae-9bb5-37c06b36d399",
   "metadata": {},
   "outputs": [],
   "source": [
    "test = Test()\n",
    "\n",
    "@tf.function\n",
    "def f(msg):\n",
    "    # test.reset()\n",
    "    return test(msg), test(msg)"
   ]
  },
  {
   "cell_type": "code",
   "execution_count": 15,
   "id": "919dd505-ef27-4417-9128-fc3bff530633",
   "metadata": {},
   "outputs": [
    {
     "name": "stdout",
     "output_type": "stream",
     "text": [
      "permutation is not set\n"
     ]
    },
    {
     "data": {
      "text/plain": [
       "(<tf.Tensor: shape=(100,), dtype=int32, numpy=\n",
       " array([75, 97, 84, 41, 40, 51, 70, 58, 28, 64, 57, 18, 14, 74, 31, 34, 89,\n",
       "        19, 25, 35, 91, 68, 98, 76, 30, 66, 29, 26, 56, 27,  0, 73,  6, 86,\n",
       "        79, 15, 96,  2, 55, 85, 45, 77, 38, 17, 20, 92, 59, 93,  9, 99,  7,\n",
       "        54, 67, 43, 71, 22, 94, 42, 46, 24, 50, 80, 60, 21, 10, 65, 36, 72,\n",
       "        52, 37, 63, 33, 95, 32, 82, 81, 53, 90,  5,  3, 69, 11, 49, 12, 39,\n",
       "         1,  4, 88, 16, 13, 83, 23, 44, 61, 47,  8, 78, 48, 87, 62],\n",
       "       dtype=int32)>,\n",
       " <tf.Tensor: shape=(100,), dtype=int32, numpy=\n",
       " array([75, 97, 84, 41, 40, 51, 70, 58, 28, 64, 57, 18, 14, 74, 31, 34, 89,\n",
       "        19, 25, 35, 91, 68, 98, 76, 30, 66, 29, 26, 56, 27,  0, 73,  6, 86,\n",
       "        79, 15, 96,  2, 55, 85, 45, 77, 38, 17, 20, 92, 59, 93,  9, 99,  7,\n",
       "        54, 67, 43, 71, 22, 94, 42, 46, 24, 50, 80, 60, 21, 10, 65, 36, 72,\n",
       "        52, 37, 63, 33, 95, 32, 82, 81, 53, 90,  5,  3, 69, 11, 49, 12, 39,\n",
       "         1,  4, 88, 16, 13, 83, 23, 44, 61, 47,  8, 78, 48, 87, 62],\n",
       "       dtype=int32)>)"
      ]
     },
     "metadata": {},
     "output_type": "display_data"
    },
    {
     "data": {
      "text/plain": [
       "<tf.Tensor 'RandomShuffle:0' shape=(100,) dtype=int32>"
      ]
     },
     "metadata": {},
     "output_type": "display_data"
    },
    {
     "data": {
      "text/plain": [
       "(<tf.Tensor: shape=(100,), dtype=int32, numpy=\n",
       " array([69, 79, 17, 11, 41, 68, 32, 84, 34, 16, 20, 91, 52, 76, 99, 92,  1,\n",
       "        36, 58, 29, 63, 22, 96, 86, 55, 39, 37, 64, 46, 18, 30, 74, 28, 98,\n",
       "        83, 72, 10, 23, 62, 44, 48, 70, 33, 75, 50, 21,  2, 81, 49, 47, 80,\n",
       "        35,  7,  0, 59, 66, 12,  4, 14, 15, 73, 71, 51, 78, 88, 42, 38, 54,\n",
       "        31, 57, 13,  9, 95, 85,  8, 53, 77, 27, 87, 65,  5, 40, 25, 24, 56,\n",
       "        94, 60, 97, 43,  6,  3, 93, 82, 89, 19, 45, 90, 61, 67, 26],\n",
       "       dtype=int32)>,\n",
       " <tf.Tensor: shape=(100,), dtype=int32, numpy=\n",
       " array([69, 79, 17, 11, 41, 68, 32, 84, 34, 16, 20, 91, 52, 76, 99, 92,  1,\n",
       "        36, 58, 29, 63, 22, 96, 86, 55, 39, 37, 64, 46, 18, 30, 74, 28, 98,\n",
       "        83, 72, 10, 23, 62, 44, 48, 70, 33, 75, 50, 21,  2, 81, 49, 47, 80,\n",
       "        35,  7,  0, 59, 66, 12,  4, 14, 15, 73, 71, 51, 78, 88, 42, 38, 54,\n",
       "        31, 57, 13,  9, 95, 85,  8, 53, 77, 27, 87, 65,  5, 40, 25, 24, 56,\n",
       "        94, 60, 97, 43,  6,  3, 93, 82, 89, 19, 45, 90, 61, 67, 26],\n",
       "       dtype=int32)>)"
      ]
     },
     "metadata": {},
     "output_type": "display_data"
    },
    {
     "data": {
      "text/plain": [
       "<tf.Tensor 'RandomShuffle:0' shape=(100,) dtype=int32>"
      ]
     },
     "metadata": {},
     "output_type": "display_data"
    },
    {
     "data": {
      "text/plain": [
       "(<tf.Tensor: shape=(100,), dtype=int32, numpy=\n",
       " array([69, 45, 68, 56, 23, 25, 13, 74, 91, 63, 31, 72, 33, 75,  9, 20, 54,\n",
       "        73, 10, 86,  0, 79, 29, 50, 19, 77, 55, 51, 65, 81, 53,  5, 61, 24,\n",
       "        26, 42, 35, 47, 16, 40, 18, 66, 59, 89, 52, 97, 80, 28, 46,  2, 14,\n",
       "        90, 83, 60, 78, 76, 34, 27, 98, 41, 67, 99,  7,  3, 32, 93, 11, 96,\n",
       "        87, 48, 84,  4, 70, 43, 62, 94, 88, 36, 82, 22, 95, 39, 71, 44, 85,\n",
       "        17, 64, 21, 57, 37, 12, 30,  6, 15,  1,  8, 92, 49, 38, 58],\n",
       "       dtype=int32)>,\n",
       " <tf.Tensor: shape=(100,), dtype=int32, numpy=\n",
       " array([69, 45, 68, 56, 23, 25, 13, 74, 91, 63, 31, 72, 33, 75,  9, 20, 54,\n",
       "        73, 10, 86,  0, 79, 29, 50, 19, 77, 55, 51, 65, 81, 53,  5, 61, 24,\n",
       "        26, 42, 35, 47, 16, 40, 18, 66, 59, 89, 52, 97, 80, 28, 46,  2, 14,\n",
       "        90, 83, 60, 78, 76, 34, 27, 98, 41, 67, 99,  7,  3, 32, 93, 11, 96,\n",
       "        87, 48, 84,  4, 70, 43, 62, 94, 88, 36, 82, 22, 95, 39, 71, 44, 85,\n",
       "        17, 64, 21, 57, 37, 12, 30,  6, 15,  1,  8, 92, 49, 38, 58],\n",
       "       dtype=int32)>)"
      ]
     },
     "metadata": {},
     "output_type": "display_data"
    }
   ],
   "source": [
    "display(f(tf.range(100)))\n",
    "display(test.permutation)\n",
    "display(f(tf.range(100)))\n",
    "display(test.permutation)\n",
    "display(f(tf.range(100)))"
   ]
  },
  {
   "cell_type": "code",
   "execution_count": 16,
   "id": "430dd6d7-59b7-4fc1-b662-56808c5fe945",
   "metadata": {},
   "outputs": [],
   "source": [
    "import tensorflow_probability as tfp"
   ]
  },
  {
   "cell_type": "code",
   "execution_count": 33,
   "id": "e1b505c2-1068-46c4-a4a0-e21a0a63cf55",
   "metadata": {},
   "outputs": [
    {
     "data": {
      "text/plain": [
       "<tf.Tensor: shape=(), dtype=float32, numpy=0.3>"
      ]
     },
     "execution_count": 33,
     "metadata": {},
     "output_type": "execute_result"
    }
   ],
   "source": [
    "a = tfp.experimental.stats.RunningVariance.from_shape(shape=())\n",
    "data1 = tf.ones((3,))\n",
    "data2 = tf.ones((2,)) * 2\n",
    "a.update(data1, axis=0).update(data2, axis=0).variance(ddof=1)"
   ]
  },
  {
   "cell_type": "code",
   "execution_count": 31,
   "id": "aedec098-1ec4-46cc-8dd2-4997f52a70f5",
   "metadata": {},
   "outputs": [
    {
     "data": {
      "text/plain": [
       "numpy.int32"
      ]
     },
     "execution_count": 31,
     "metadata": {},
     "output_type": "execute_result"
    }
   ],
   "source": [
    "a = tf.constant(1)\n",
    "type(a.numpy())\n"
   ]
  },
  {
   "cell_type": "code",
   "execution_count": 32,
   "id": "6fa23437-b577-4d17-8548-2fbf085bd584",
   "metadata": {},
   "outputs": [
    {
     "data": {
      "text/plain": [
       "1.4"
      ]
     },
     "execution_count": 32,
     "metadata": {},
     "output_type": "execute_result"
    }
   ],
   "source": [
    "(3 * 1 + 2 * 2) / 5"
   ]
  },
  {
   "cell_type": "code",
   "execution_count": 2,
   "id": "5ddcee8e-0628-44c7-bf05-7b6c535d3791",
   "metadata": {},
   "outputs": [
    {
     "name": "stderr",
     "output_type": "stream",
     "text": [
      "2021-12-31 11:21:36.003655: I tensorflow/stream_executor/cuda/cuda_gpu_executor.cc:939] successful NUMA node read from SysFS had negative value (-1), but there must be at least one NUMA node, so returning NUMA node zero\n",
      "2021-12-31 11:21:36.004033: W tensorflow/stream_executor/platform/default/dso_loader.cc:64] Could not load dynamic library 'libcudart.so.11.0'; dlerror: libcudart.so.11.0: cannot open shared object file: No such file or directory\n",
      "2021-12-31 11:21:36.004079: W tensorflow/stream_executor/platform/default/dso_loader.cc:64] Could not load dynamic library 'libcublas.so.11'; dlerror: libcublas.so.11: cannot open shared object file: No such file or directory\n",
      "2021-12-31 11:21:36.004123: W tensorflow/stream_executor/platform/default/dso_loader.cc:64] Could not load dynamic library 'libcublasLt.so.11'; dlerror: libcublasLt.so.11: cannot open shared object file: No such file or directory\n",
      "2021-12-31 11:21:36.004165: W tensorflow/stream_executor/platform/default/dso_loader.cc:64] Could not load dynamic library 'libcufft.so.10'; dlerror: libcufft.so.10: cannot open shared object file: No such file or directory\n",
      "2021-12-31 11:21:36.004208: W tensorflow/stream_executor/platform/default/dso_loader.cc:64] Could not load dynamic library 'libcurand.so.10'; dlerror: libcurand.so.10: cannot open shared object file: No such file or directory\n",
      "2021-12-31 11:21:36.004264: W tensorflow/stream_executor/platform/default/dso_loader.cc:64] Could not load dynamic library 'libcusolver.so.11'; dlerror: libcusolver.so.11: cannot open shared object file: No such file or directory\n",
      "2021-12-31 11:21:36.004309: W tensorflow/stream_executor/platform/default/dso_loader.cc:64] Could not load dynamic library 'libcusparse.so.11'; dlerror: libcusparse.so.11: cannot open shared object file: No such file or directory\n",
      "2021-12-31 11:21:36.004355: W tensorflow/stream_executor/platform/default/dso_loader.cc:64] Could not load dynamic library 'libcudnn.so.8'; dlerror: libcudnn.so.8: cannot open shared object file: No such file or directory\n",
      "2021-12-31 11:21:36.004363: W tensorflow/core/common_runtime/gpu/gpu_device.cc:1850] Cannot dlopen some GPU libraries. Please make sure the missing libraries mentioned above are installed properly if you would like to use GPU. Follow the guide at https://www.tensorflow.org/install/gpu for how to download and setup the required libraries for your platform.\n",
      "Skipping registering GPU devices...\n",
      "2021-12-31 11:21:36.005133: I tensorflow/core/platform/cpu_feature_guard.cc:151] This TensorFlow binary is optimized with oneAPI Deep Neural Network Library (oneDNN) to use the following CPU instructions in performance-critical operations:  AVX2 FMA\n",
      "To enable them in other operations, rebuild TensorFlow with the appropriate compiler flags.\n"
     ]
    },
    {
     "data": {
      "text/plain": [
       "<tf.Tensor: shape=(3, 2), dtype=float32, numpy=\n",
       "array([[1.3132617, 0.3132617],\n",
       "       [0.6931472, 0.3132617],\n",
       "       [1.3132617, 0.6931472]], dtype=float32)>"
      ]
     },
     "execution_count": 2,
     "metadata": {},
     "output_type": "execute_result"
    }
   ],
   "source": [
    "logits = tf.reshape(tf.constant([1., -1., 0., 1., -1., 0.,]), (3, 2))\n",
    "labels = tf.reshape(tf.constant([0., 0., 0., 1., 1., 1.]), (3, 2))\n",
    "tf.nn.sigmoid_cross_entropy_with_logits(labels=labels, logits=logits)"
   ]
  }
 ],
 "metadata": {
  "kernelspec": {
   "display_name": "Python [conda env:turbo]",
   "language": "python",
   "name": "conda-env-turbo-py"
  },
  "language_info": {
   "codemirror_mode": {
    "name": "ipython",
    "version": 3
   },
   "file_extension": ".py",
   "mimetype": "text/x-python",
   "name": "python",
   "nbconvert_exporter": "python",
   "pygments_lexer": "ipython3",
   "version": "3.9.7"
  }
 },
 "nbformat": 4,
 "nbformat_minor": 5
}
